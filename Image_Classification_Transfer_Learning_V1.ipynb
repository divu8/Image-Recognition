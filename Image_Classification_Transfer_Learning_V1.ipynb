{
 "cells": [
  {
   "cell_type": "code",
   "execution_count": 1,
   "metadata": {
    "id": "4mh8MqCGfKsT"
   },
   "outputs": [],
   "source": [
    "import numpy as np\n",
    "import cv2\n",
    "\n",
    "import PIL.Image as Image\n",
    "import os\n",
    "\n",
    "import matplotlib.pyplot as plt\n",
    "\n",
    "import tensorflow as tf\n",
    "import tensorflow_hub as hub\n",
    "\n",
    "from tensorflow import keras\n",
    "from tensorflow.keras import layers\n",
    "from tensorflow.keras.models import Sequential"
   ]
  },
  {
   "cell_type": "code",
   "execution_count": 2,
   "metadata": {
    "id": "ovijKU_ekw8T"
   },
   "outputs": [],
   "source": [
    "IMAGE_SHAPE = (224,224)\n",
    "model = tf.keras.Sequential([\n",
    "    hub.KerasLayer(\"https://tfhub.dev/google/tf2-preview/mobilenet_v2/classification/4\", input_shape = IMAGE_SHAPE+(3,))\n",
    "])"
   ]
  },
  {
   "cell_type": "code",
   "execution_count": 3,
   "metadata": {
    "id": "pVaAjr5IluMl"
   },
   "outputs": [],
   "source": [
    "import requests\n",
    "from io import BytesIO\n",
    "\n",
    "url = '''https://5.imimg.com/data5/SELLER/Default/2020/11/HB/JG/NQ/101302946/wood-spoon-500x500.jpg'''\n",
    "response = requests.get(url)\n",
    "img = Image.open(BytesIO(response.content))"
   ]
  },
  {
   "cell_type": "code",
   "execution_count": 4,
   "metadata": {
    "id": "xXSl6HcwnSgj"
   },
   "outputs": [],
   "source": [
    "image_to_predict = img.resize(IMAGE_SHAPE)"
   ]
  },
  {
   "cell_type": "code",
   "execution_count": 5,
   "metadata": {
    "colab": {
     "base_uri": "https://localhost:8080/"
    },
    "id": "TqD6FctTncSx",
    "outputId": "decdd498-5e0c-4429-ef79-3c0cf922bfe4"
   },
   "outputs": [
    {
     "data": {
      "text/plain": [
       "(224, 224, 3)"
      ]
     },
     "execution_count": 5,
     "metadata": {},
     "output_type": "execute_result"
    }
   ],
   "source": [
    "image_to_predict = np.array(image_to_predict)/255.0\n",
    "image_to_predict.shape"
   ]
  },
  {
   "cell_type": "code",
   "execution_count": 6,
   "metadata": {
    "colab": {
     "base_uri": "https://localhost:8080/"
    },
    "id": "ite3Uhxcnxc3",
    "outputId": "38eb9cfe-5e39-4cff-ee27-7037e606d61b"
   },
   "outputs": [
    {
     "data": {
      "text/plain": [
       "(1, 224, 224, 3)"
      ]
     },
     "execution_count": 6,
     "metadata": {},
     "output_type": "execute_result"
    }
   ],
   "source": [
    "final_img = image_to_predict[np.newaxis,...]\n",
    "final_img.shape"
   ]
  },
  {
   "cell_type": "code",
   "execution_count": 7,
   "metadata": {
    "id": "uWS_gRy9oLhs"
   },
   "outputs": [
    {
     "name": "stdout",
     "output_type": "stream",
     "text": [
      "1/1 [==============================] - 2s 2s/step\n"
     ]
    }
   ],
   "source": [
    "result = model.predict(final_img)"
   ]
  },
  {
   "cell_type": "code",
   "execution_count": 8,
   "metadata": {
    "colab": {
     "base_uri": "https://localhost:8080/"
    },
    "id": "SoabM0s-oigD",
    "outputId": "7aaf997e-c5fc-4022-b770-52de12bafc20"
   },
   "outputs": [
    {
     "data": {
      "text/plain": [
       "911"
      ]
     },
     "execution_count": 8,
     "metadata": {},
     "output_type": "execute_result"
    }
   ],
   "source": [
    "predicted_label_index = np.argmax(result)\n",
    "predicted_label_index "
   ]
  },
  {
   "cell_type": "code",
   "execution_count": 9,
   "metadata": {
    "id": "DOBV8Fouo74o"
   },
   "outputs": [],
   "source": [
    "image_labels = []\n",
    "with open(\"ImageNetLabels.txt\") as f:\n",
    "  image_labels = f.read().splitlines()"
   ]
  },
  {
   "cell_type": "code",
   "execution_count": 10,
   "metadata": {
    "colab": {
     "base_uri": "https://localhost:8080/",
     "height": 35
    },
    "id": "0hNxx1K0pRva",
    "outputId": "c9d51785-e473-4c5c-cfaa-46d031c92a2e"
   },
   "outputs": [
    {
     "data": {
      "text/plain": [
       "'wooden spoon'"
      ]
     },
     "execution_count": 10,
     "metadata": {},
     "output_type": "execute_result"
    }
   ],
   "source": [
    "image_labels[predicted_label_index]"
   ]
  },
  {
   "cell_type": "code",
   "execution_count": 11,
   "metadata": {
    "id": "yyE81MA4pccG"
   },
   "outputs": [],
   "source": [
    "import pathlib\n",
    "data_dir = pathlib.Path(\"train\")"
   ]
  },
  {
   "cell_type": "code",
   "execution_count": 12,
   "metadata": {},
   "outputs": [
    {
     "data": {
      "text/plain": [
       "2855"
      ]
     },
     "execution_count": 12,
     "metadata": {},
     "output_type": "execute_result"
    }
   ],
   "source": [
    "len(list(data_dir.glob(\"*/*.jpg\")))"
   ]
  },
  {
   "cell_type": "code",
   "execution_count": 13,
   "metadata": {},
   "outputs": [],
   "source": [
    "import os\n",
    "data_labels = []\n",
    "rootdir = 'train/'\n",
    "for file in os.listdir(rootdir):\n",
    "    d = os.path.join(rootdir, file)\n",
    "    if os.path.isdir(d):\n",
    "        data_labels.append(d[6:])"
   ]
  },
  {
   "cell_type": "code",
   "execution_count": 14,
   "metadata": {},
   "outputs": [
    {
     "data": {
      "text/plain": [
       "['apple',\n",
       " 'banana',\n",
       " 'beetroot',\n",
       " 'bell pepper',\n",
       " 'cabbage',\n",
       " 'capsicum',\n",
       " 'carrot',\n",
       " 'cauliflower',\n",
       " 'chilli pepper',\n",
       " 'corn',\n",
       " 'cucumber',\n",
       " 'eggplant',\n",
       " 'garlic',\n",
       " 'ginger',\n",
       " 'grapes',\n",
       " 'jalepeno',\n",
       " 'kiwi',\n",
       " 'lemon',\n",
       " 'lettuce',\n",
       " 'mango',\n",
       " 'onion',\n",
       " 'orange',\n",
       " 'paprika',\n",
       " 'pear',\n",
       " 'peas',\n",
       " 'pineapple',\n",
       " 'pomegranate',\n",
       " 'potato',\n",
       " 'raddish',\n",
       " 'soy beans',\n",
       " 'spinach',\n",
       " 'sweetcorn',\n",
       " 'sweetpotato',\n",
       " 'tomato',\n",
       " 'turnip',\n",
       " 'watermelon']"
      ]
     },
     "execution_count": 14,
     "metadata": {},
     "output_type": "execute_result"
    }
   ],
   "source": [
    "data_labels"
   ]
  },
  {
   "cell_type": "code",
   "execution_count": 15,
   "metadata": {},
   "outputs": [
    {
     "data": {
      "text/plain": [
       "'apple,banana,beetroot,bell pepper,cabbage,capsicum,carrot,cauliflower,chilli pepper,corn,cucumber,eggplant,garlic,ginger,grapes,jalepeno,kiwi,lemon,lettuce,mango,onion,orange,paprika,pear,peas,pineapple,pomegranate,potato,raddish,soy beans,spinach,sweetcorn,sweetpotato,tomato,turnip,watermelon'"
      ]
     },
     "execution_count": 15,
     "metadata": {},
     "output_type": "execute_result"
    }
   ],
   "source": [
    "','.join(data_labels)"
   ]
  },
  {
   "cell_type": "code",
   "execution_count": 16,
   "metadata": {},
   "outputs": [],
   "source": [
    "fnv_images_dict = {}\n",
    "for label in data_labels:\n",
    "    fnv_images_dict[label] = list(data_dir.glob(f\"{label}/*\"))"
   ]
  },
  {
   "cell_type": "code",
   "execution_count": null,
   "metadata": {},
   "outputs": [],
   "source": [
    "fnv_images_dict['apple']"
   ]
  },
  {
   "cell_type": "code",
   "execution_count": 18,
   "metadata": {},
   "outputs": [],
   "source": [
    "fnv_labels_dict = {}\n",
    "for index,label in enumerate(data_labels):\n",
    "    fnv_labels_dict[label] = index"
   ]
  },
  {
   "cell_type": "code",
   "execution_count": 19,
   "metadata": {},
   "outputs": [
    {
     "data": {
      "text/plain": [
       "{'apple': 0,\n",
       " 'banana': 1,\n",
       " 'beetroot': 2,\n",
       " 'bell pepper': 3,\n",
       " 'cabbage': 4,\n",
       " 'capsicum': 5,\n",
       " 'carrot': 6,\n",
       " 'cauliflower': 7,\n",
       " 'chilli pepper': 8,\n",
       " 'corn': 9,\n",
       " 'cucumber': 10,\n",
       " 'eggplant': 11,\n",
       " 'garlic': 12,\n",
       " 'ginger': 13,\n",
       " 'grapes': 14,\n",
       " 'jalepeno': 15,\n",
       " 'kiwi': 16,\n",
       " 'lemon': 17,\n",
       " 'lettuce': 18,\n",
       " 'mango': 19,\n",
       " 'onion': 20,\n",
       " 'orange': 21,\n",
       " 'paprika': 22,\n",
       " 'pear': 23,\n",
       " 'peas': 24,\n",
       " 'pineapple': 25,\n",
       " 'pomegranate': 26,\n",
       " 'potato': 27,\n",
       " 'raddish': 28,\n",
       " 'soy beans': 29,\n",
       " 'spinach': 30,\n",
       " 'sweetcorn': 31,\n",
       " 'sweetpotato': 32,\n",
       " 'tomato': 33,\n",
       " 'turnip': 34,\n",
       " 'watermelon': 35}"
      ]
     },
     "execution_count": 19,
     "metadata": {},
     "output_type": "execute_result"
    }
   ],
   "source": [
    "fnv_labels_dict"
   ]
  },
  {
   "cell_type": "code",
   "execution_count": 20,
   "metadata": {},
   "outputs": [
    {
     "name": "stdout",
     "output_type": "stream",
     "text": [
      "OpenCV(4.6.0) D:\\a\\opencv-python\\opencv-python\\opencv\\modules\\imgproc\\src\\resize.cpp:4052: error: (-215:Assertion failed) !ssize.empty() in function 'cv::resize'\n",
      "\n"
     ]
    }
   ],
   "source": [
    "X,y = [],[]\n",
    "\n",
    "for label_name,images in fnv_images_dict.items():\n",
    "    for image in images:\n",
    "        try:\n",
    "            img = cv2.imread(str(image))\n",
    "            resized_img = cv2.resize(img,IMAGE_SHAPE)\n",
    "            X.append(resized_img)\n",
    "            y.append(fnv_labels_dict[label_name])\n",
    "        except Exception as e:\n",
    "            print(str(e))"
   ]
  },
  {
   "cell_type": "code",
   "execution_count": 21,
   "metadata": {},
   "outputs": [],
   "source": [
    "X = np.array(X)\n",
    "y = np.array(y)"
   ]
  },
  {
   "cell_type": "code",
   "execution_count": 22,
   "metadata": {},
   "outputs": [],
   "source": [
    "from sklearn.model_selection import train_test_split\n",
    "X_train,X_test,y_train,y_test = train_test_split(X,y,test_size=0.2,random_state=0)"
   ]
  },
  {
   "cell_type": "code",
   "execution_count": 23,
   "metadata": {},
   "outputs": [],
   "source": [
    "X_train_scaled = X_train/255.0\n",
    "X_test_scaled = X_test/255.0"
   ]
  },
  {
   "cell_type": "code",
   "execution_count": 24,
   "metadata": {},
   "outputs": [
    {
     "data": {
      "image/png": "[encoded data removed]",
      "text/plain": [
       "<Figure size 432x288 with 1 Axes>"
      ]
     },
     "metadata": {
      "needs_background": "light"
     },
     "output_type": "display_data"
    }
   ],
   "source": [
    "plt.axis('off')\n",
    "plt.imshow(X[0]);"
   ]
  },
  {
   "cell_type": "code",
   "execution_count": 25,
   "metadata": {},
   "outputs": [],
   "source": [
    "feature_extractor_model = \"https://tfhub.dev/google/tf2-preview/mobilenet_v2/feature_vector/4\"\n",
    "transfer_learning_model_without_top_layer = hub.KerasLayer(feature_extractor_model, input_shape = (224,224,3),\n",
    "                   trainable=False)"
   ]
  },
  {
   "cell_type": "code",
   "execution_count": 26,
   "metadata": {},
   "outputs": [
    {
     "name": "stdout",
     "output_type": "stream",
     "text": [
      "Model: \"sequential_1\"\n",
      "_________________________________________________________________\n",
      " Layer (type)                Output Shape              Param #   \n",
      "=================================================================\n",
      " keras_layer_1 (KerasLayer)  (None, 1280)              2257984   \n",
      "                                                                 \n",
      " dense (Dense)               (None, 36)                46116     \n",
      "                                                                 \n",
      "=================================================================\n",
      "Total params: 2,304,100\n",
      "Trainable params: 46,116\n",
      "Non-trainable params: 2,257,984\n",
      "_________________________________________________________________\n"
     ]
    }
   ],
   "source": [
    "num_of_labels = len(data_labels)\n",
    "model = tf.keras.Sequential([\n",
    "    transfer_learning_model_without_top_layer,\n",
    "    tf.keras.layers.Dense(num_of_labels)\n",
    "])\n",
    "model.summary()"
   ]
  },
  {
   "cell_type": "code",
   "execution_count": null,
   "metadata": {},
   "outputs": [],
   "source": []
  },
  {
   "cell_type": "code",
   "execution_count": 27,
   "metadata": {},
   "outputs": [
    {
     "name": "stdout",
     "output_type": "stream",
     "text": [
      "Epoch 1/5\n",
      "78/78 [==============================] - 155s 2s/step - loss: 2.1987 - acc: 0.4332\n",
      "Epoch 2/5\n",
      "78/78 [==============================] - 135s 2s/step - loss: 0.8745 - acc: 0.7760\n",
      "Epoch 3/5\n",
      "78/78 [==============================] - 127s 2s/step - loss: 0.6004 - acc: 0.8543\n",
      "Epoch 4/5\n",
      "78/78 [==============================] - 125s 2s/step - loss: 0.4382 - acc: 0.8972\n",
      "Epoch 5/5\n",
      "78/78 [==============================] - 132s 2s/step - loss: 0.3371 - acc: 0.9310\n"
     ]
    },
    {
     "data": {
      "text/plain": [
       "<keras.callbacks.History at 0x1a4eee0adc0>"
      ]
     },
     "execution_count": 27,
     "metadata": {},
     "output_type": "execute_result"
    }
   ],
   "source": [
    "model.compile(\n",
    "    optimizer=\"adam\",\n",
    "    loss = tf.keras.losses.SparseCategoricalCrossentropy(from_logits=True),\n",
    "    metrics = ['acc'])\n",
    "model.fit(X_train_scaled,y_train,epochs = 5)"
   ]
  },
  {
   "cell_type": "code",
   "execution_count": 28,
   "metadata": {},
   "outputs": [
    {
     "name": "stdout",
     "output_type": "stream",
     "text": [
      "1/1 [==============================] - 2s 2s/step\n"
     ]
    },
    {
     "data": {
      "text/plain": [
       "'banana'"
      ]
     },
     "execution_count": 28,
     "metadata": {},
     "output_type": "execute_result"
    }
   ],
   "source": [
    "url = '''https://cdn-prod.medicalnewstoday.com/content/images/articles/271/271157/bananas-chopped-up-in-a-bowl.jpg'''\n",
    "response = requests.get(url)\n",
    "img = Image.open(BytesIO(response.content))\n",
    "\n",
    "\n",
    "image_to_predict = img.resize(IMAGE_SHAPE)\n",
    "image_to_predict = np.array(image_to_predict)/255.0\n",
    "final_img = image_to_predict[np.newaxis,...]\n",
    "result = model.predict(final_img)\n",
    "predicted_label_index = np.argmax(result)\n",
    "\n",
    "data_labels[predicted_label_index]"
   ]
  },
  {
   "cell_type": "code",
   "execution_count": null,
   "metadata": {},
   "outputs": [],
   "source": []
  },
  {
   "cell_type": "code",
   "execution_count": null,
   "metadata": {},
   "outputs": [],
   "source": []
  },
  {
   "cell_type": "code",
   "execution_count": null,
   "metadata": {},
   "outputs": [],
   "source": []
  },
  {
   "cell_type": "code",
   "execution_count": 2,
   "metadata": {},
   "outputs": [
    {
     "name": "stdout",
     "output_type": "stream",
     "text": [
      "Collecting BeautifulSoup4\n",
      "  Downloading beautifulsoup4-4.11.1-py3-none-any.whl (128 kB)\n",
      "     -------------------------------------- 128.2/128.2 KB 3.7 MB/s eta 0:00:00\n",
      "Collecting soupsieve>1.2\n",
      "  Downloading soupsieve-2.3.2.post1-py3-none-any.whl (37 kB)\n",
      "Installing collected packages: soupsieve, BeautifulSoup4\n",
      "Successfully installed BeautifulSoup4-4.11.1 soupsieve-2.3.2.post1\n"
     ]
    },
    {
     "name": "stderr",
     "output_type": "stream",
     "text": [
      "WARNING: You are using pip version 22.0.3; however, version 22.2.2 is available.\n",
      "You should consider upgrading via the 'c:\\users\\lenovo\\appdata\\local\\programs\\python\\python38\\python.exe -m pip install --upgrade pip' command.\n"
     ]
    }
   ],
   "source": [
    "!pip install BeautifulSoup4"
   ]
  },
  {
   "cell_type": "markdown",
   "metadata": {},
   "source": [
    "# Web scraping for Custom dataset "
   ]
  },
  {
   "cell_type": "code",
   "execution_count": 3,
   "metadata": {},
   "outputs": [],
   "source": [
    "import os\n",
    "import requests\n",
    "from bs4 import BeautifulSoup"
   ]
  },
  {
   "cell_type": "code",
   "execution_count": 4,
   "metadata": {},
   "outputs": [],
   "source": [
    "google_image = \"https://www.google.com/search?site=&tbm=isch&source=hp&biw=1873&bih=990&\"\n",
    "\n",
    "user_agent = {\n",
    "    \"User-Agent\": \"Mozilla/5.0 (Windows NT 10.0; Win64; x64) AppleWebKit/537.36 (KHTML, like Gecko) Chrome/70.0.3538.77 Safari/537.36\"\n",
    "}"
   ]
  },
  {
   "cell_type": "code",
   "execution_count": 5,
   "metadata": {},
   "outputs": [],
   "source": [
    "saved_folder = 'dataset'\n",
    "\n",
    "\n",
    "def main():\n",
    "    if not os.path.exists(saved_folder):\n",
    "        os.mkdir(saved_folder)\n",
    "    download_images()"
   ]
  },
  {
   "cell_type": "code",
   "execution_count": 15,
   "metadata": {},
   "outputs": [],
   "source": [
    "classes = ['door','spoon','swimming pool','keys','watch']\n",
    "def download_images():\n",
    "    for data in classes:\n",
    "        n_images = 100\n",
    "        folder_path = \"/dataset/\"+data\n",
    "        if not os.path.exists(folder_path):\n",
    "            os.mkdir(folder_path)\n",
    "\n",
    "        print(f'searching for {data}...')\n",
    "\n",
    "        search_url = google_image + 'q=' + data\n",
    "\n",
    "        response = requests.get(search_url, headers=user_agent)\n",
    "\n",
    "        html = response.text\n",
    "\n",
    "        soup = BeautifulSoup(html, 'html.parser')\n",
    "\n",
    "        results = soup.findAll('img', {'class': 'rg_i Q4LuWd'})\n",
    "\n",
    "        count = 1\n",
    "        links = []\n",
    "        for result in results:\n",
    "            try:\n",
    "                link = result['data-src']\n",
    "                links.append(link)\n",
    "                count += 1\n",
    "                if(count > n_images):\n",
    "                    break\n",
    "\n",
    "            except KeyError:\n",
    "                continue\n",
    "\n",
    "        print(f\"Downloading {len(links)} images...\")\n",
    "\n",
    "        for i, link in enumerate(links):\n",
    "            response = requests.get(link)\n",
    "\n",
    "            image_name = folder_path + '/' + data + str(i+1) + '.jpg'\n",
    "\n",
    "            with open(image_name, 'wb') as fh:\n",
    "                fh.write(response.content)"
   ]
  },
  {
   "cell_type": "code",
   "execution_count": null,
   "metadata": {},
   "outputs": [],
   "source": []
  }
 ],
 "metadata": {
  "colab": {
   "provenance": []
  },
  "kernelspec": {
   "display_name": "Python 3 (ipykernel)",
   "language": "python",
   "name": "python3"
  },
  "language_info": {
   "codemirror_mode": {
    "name": "ipython",
    "version": 3
   },
   "file_extension": ".py",
   "mimetype": "text/x-python",
   "name": "python",
   "nbconvert_exporter": "python",
   "pygments_lexer": "ipython3",
   "version": "3.8.8"
  }
 },
 "nbformat": 4,
 "nbformat_minor": 1
}
